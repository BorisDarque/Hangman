{
 "cells": [
  {
   "cell_type": "code",
   "execution_count": null,
   "metadata": {},
   "outputs": [],
   "source": [
    "import random\n",
    "def get_guess():\n",
    " # Set the dashes to the length of the secret word and set the amount of guesses\n",
    " # the user has to 10\n",
    " dashes = \"-\" * len(secret_word)\n",
    " guesses_left = 10\n",
    " # This will loop as long as BOTH conditions are true:\n",
    " # 1. The number of guesses of left is greater than -1\n",
    " # 2. The dash string does NOT equal the secret word\n",
    " while guesses_left > -1 and not dashes == secret_word:\n",
    "   # Print the amount of dashes and guesses left\n",
    "   print(dashes)\n",
    "   print (str(guesses_left))\n",
    "   # Ask the user for input\n",
    "   guess = input(\"Guess:\")\n",
    "   # Conditions that will print out a message according to\n",
    "   # invalid inputs\n",
    "   if len(guess) != 1:\n",
    "     print (\"Your guess must have exactly one character!\")\n",
    "   # If the guess is in the secret word then we updtae dashes to replace the\n",
    "   # corresponding dash with the correct index the guess belongs to in the\n",
    "   # secret word\n",
    "   elif guess in secret_word:\n",
    "     print (\"That letter is in the secret word!\")\n",
    "     dashes = update_dashes(secret_word, dashes, guess)\n",
    "   # If the guess is wrong then we display a message and subtract\n",
    "   # the amount of guesses the user has by 1\n",
    "   else:\n",
    "     print (\"That letter is not in the secret word!\")\n",
    "     guesses_left -= 1\n",
    " if guesses_left < 0:\n",
    "   print (\"You lose. The word was: \" + str(secret_word))\n",
    " # If the dash string equals the secret word in the end then the\n",
    " # user wins\n",
    " else:\n",
    "   print (\"Congrats! You win. The word was: \" + str(secret_word))\n",
    "# This function updates the string of dashes by replacing the dashes\n",
    "# with words that match up with the hidden word if the user manages to guess\n",
    "# it correctly\n",
    "def update_dashes(secret, cur_dash, rec_guess):\n",
    " result = \"\"\n",
    " for i in range(len(secret)):\n",
    "            if secret[i] == rec_guess:\n",
    "            result = result + rec_guess     # Adds guess to string if guess is correctly\n",
    "               else:\n",
    "     # Add the dash at index i to result if it doesn't match the guess\n",
    "                     result = result + cur_dash[i]\n",
    "         return result\n",
    "words = [\"bob\", \"cool\", \"whatup\"]\n",
    "secret_word = random.choice(words)\n",
    "get_guess()"
   ]
  },
  {
   "cell_type": "code",
   "execution_count": null,
   "metadata": {},
   "outputs": [],
   "source": []
  }
 ],
 "metadata": {
  "kernelspec": {
   "display_name": "Python 3",
   "language": "python",
   "name": "python3"
  },
  "language_info": {
   "codemirror_mode": {
    "name": "ipython",
    "version": 3
   },
   "file_extension": ".py",
   "mimetype": "text/x-python",
   "name": "python",
   "nbconvert_exporter": "python",
   "pygments_lexer": "ipython3",
   "version": "3.7.3"
  }
 },
 "nbformat": 4,
 "nbformat_minor": 2
}
